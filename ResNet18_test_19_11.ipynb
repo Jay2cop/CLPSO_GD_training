{
 "cells": [
  {
   "cell_type": "code",
   "execution_count": 84,
   "id": "9a2a6022",
   "metadata": {},
   "outputs": [
    {
     "name": "stdout",
     "output_type": "stream",
     "text": [
      "Files already downloaded and verified\n",
      "Files already downloaded and verified\n",
      "Classes in CIFAR-10 dataset: ['airplane', 'automobile', 'bird', 'cat', 'deer', 'dog', 'frog', 'horse', 'ship', 'truck']\n",
      "Model device: cuda:0\n"
     ]
    }
   ],
   "source": [
    "import torch\n",
    "import torchvision\n",
    "import torchvision.transforms as transforms\n",
    "import torch.nn as nn\n",
    "import torch.optim as optim\n",
    "\n",
    "from torchvision.models import resnet18, ResNet18_Weights\n",
    "\n",
    "transform = transforms.Compose(\n",
    "    [transforms.ToTensor(),\n",
    "    transforms.Normalize((0.5, 0.5, 0.5), (0.5, 0.5, 0.5))])\n",
    "\n",
    "trainset = torchvision.datasets.CIFAR10(root= './data', train = True, download = True, transform = transform)\n",
    "trainloader = torch.utils.data.DataLoader(trainset, batch_size = 256, shuffle = True, num_workers = 4)\n",
    "testset = torchvision.datasets.CIFAR10(root = './data', train = False, download = True, transform = transform)\n",
    "testloader = torch.utils.data.DataLoader(testset, batch_size = 256, shuffle = False, num_workers = 4)\n",
    "\n",
    "# Print class names\n",
    "classes = trainset.classes\n",
    "print(\"Classes in CIFAR-10 dataset:\", classes)\n",
    "\n",
    "#deifne GPU usage\n",
    "device = torch.device(\"cuda\" if torch.cuda.is_available() else \"cpu\")\n",
    "\n",
    "weights = ResNet18_Weights.IMAGENET1K_V1\n",
    "model = resnet18(weights = weights)\n",
    "\n",
    "\n",
    "num_ftrs = model.fc.in_features\n",
    "model.fc = nn.Linear(num_ftrs, 10) #10 classes\n",
    "model = model.to(device)\n",
    "\n",
    "criterion = nn.CrossEntropyLoss()\n",
    "#optimizer = optim.SGD(model.parameters(), lr = 0.001, momentum = 0.9) #80%\n",
    "#optimizer = optim.Adam(model.parameters(), lr = 0.001) #78%\n",
    "optimizer = optim.Adagrad(model.parameters(), lr = 0.01) #80%\n",
    "print(\"Model device:\", next(model.parameters()).device)\n"
   ]
  },
  {
   "cell_type": "code",
   "execution_count": 80,
   "id": "39e1f19f",
   "metadata": {},
   "outputs": [
    {
     "name": "stdout",
     "output_type": "stream",
     "text": [
      "Epoch 1, Batch 150, Loss: 0.01311\n",
      "Epoch 2, Batch 150, Loss: 0.00831\n",
      "Epoch 3, Batch 150, Loss: 0.00537\n",
      "Epoch 4, Batch 150, Loss: 0.00407\n",
      "Epoch 5, Batch 150, Loss: 0.00246\n",
      "Epoch 6, Batch 150, Loss: 0.00199\n",
      "Epoch 7, Batch 150, Loss: 0.00190\n",
      "Epoch 8, Batch 150, Loss: 0.00132\n",
      "Epoch 9, Batch 150, Loss: 0.00096\n",
      "Epoch 10, Batch 150, Loss: 0.00094\n",
      "Epoch 11, Batch 150, Loss: 0.00054\n",
      "Epoch 12, Batch 150, Loss: 0.00055\n",
      "Epoch 13, Batch 150, Loss: 0.00048\n",
      "Epoch 14, Batch 150, Loss: 0.00042\n",
      "Epoch 15, Batch 150, Loss: 0.00088\n",
      "Epoch 16, Batch 150, Loss: 0.00038\n",
      "Epoch 17, Batch 150, Loss: 0.00032\n",
      "Epoch 18, Batch 150, Loss: 0.00031\n",
      "Epoch 19, Batch 150, Loss: 0.00052\n",
      "Epoch 20, Batch 150, Loss: 0.00035\n"
     ]
    }
   ],
   "source": [
    "num_epochs = 20 #Changing number of epochs\n",
    "    \n",
    "for epoch in range(num_epochs):\n",
    "    running_loss = 0.0\n",
    "    for i, data in enumerate(trainloader, 0):\n",
    "        try:\n",
    "            inputs, labels = data[0].to(device), data[1].to(device)\n",
    "            optimizer.zero_grad()\n",
    "            outputs = model(inputs)\n",
    "            loss = criterion(outputs, labels)\n",
    "            loss.backward()\n",
    "            optimizer.step()\n",
    "            running_loss += loss.item()\n",
    "            if i % 150 == 149:\n",
    "                print(f'Epoch {epoch + 1}, Batch {i +1}, Loss: {running_loss / 2000:.5f}')\n",
    "                running_loss = 0.0\n",
    "        except Exception as e:\n",
    "            print(f\"Error in Epoch {epoch}, Batch {i}: {e}\")\n",
    "            break"
   ]
  },
  {
   "cell_type": "code",
   "execution_count": 82,
   "id": "7cb2b3c6",
   "metadata": {},
   "outputs": [
    {
     "name": "stdout",
     "output_type": "stream",
     "text": [
      "Epoch 1, Batch 100, Loss: 0.0109\n",
      "Epoch 2, Batch 100, Loss: 0.0006\n",
      "Epoch 3, Batch 100, Loss: 0.0005\n"
     ]
    }
   ],
   "source": [
    "#freeze network\n",
    "for param in model.parameters():\n",
    "    param.requires_grad = False\n",
    "\n",
    "    #unfreeze fuly connected layer\n",
    "for param in model.fc.parameters():\n",
    "    param.requires_grad = True\n",
    "    \n",
    "#randomize the wights\n",
    "model.fc.reset_parameters()\n",
    "\n",
    "#apply optimizer for the last layer\n",
    "#fine_optimizer = torch.optim.Adam(model.fc.parameters(), lr = 0.1)\n",
    "fine_optimizer = optim.SGD(model.parameters(), lr = 0.001, momentum = 0.9)\n",
    "fine_tune_epochs = 3\n",
    "for epoch in range(fine_tune_epochs):\n",
    "    running_loss = 0.0\n",
    "    for i, data in enumerate(trainloader, 0):\n",
    "        try:\n",
    "            inputs, labels = data[0].to(device), data[1].to(device)\n",
    "            fine_optimizer.zero_grad()\n",
    "            outputs = model(inputs)\n",
    "            loss = criterion(outputs, labels)\n",
    "            loss.backward()\n",
    "            fine_optimizer.step()\n",
    "            running_loss += loss.item()\n",
    "            if i % 150 == 149:\n",
    "                print(f'Epoch {epoch + 1}, Batch {i +1}, Loss: {running_loss / 2000:.4f}')\n",
    "                running_loss = 0.0\n",
    "        except Exception as e:\n",
    "            print(f\"Error in Epoch {epoch}, Batch {i}: {e}\")\n",
    "            break"
   ]
  },
  {
   "cell_type": "code",
   "execution_count": 85,
   "id": "d138baca",
   "metadata": {},
   "outputs": [
    {
     "name": "stdout",
     "output_type": "stream",
     "text": [
      "Accuracy of the network on the 10 000 test images: 10.890000 %\n",
      "Accuracy for: airplane is 8.0 %\n",
      "Accuracy for: automobile is 28.3 %\n",
      "Accuracy for: bird  is 26.7 %\n",
      "Accuracy for: cat   is 1.7 %\n",
      "Accuracy for: deer  is 6.1 %\n",
      "Accuracy for: dog   is 8.5 %\n",
      "Accuracy for: frog  is 2.8 %\n",
      "Accuracy for: horse is 2.2 %\n",
      "Accuracy for: ship  is 11.8 %\n",
      "Accuracy for: truck is 12.8 %\n"
     ]
    }
   ],
   "source": [
    "correct = 0\n",
    "total = 0\n",
    "correct_pred = {classname: 0 for classname in classes}\n",
    "total_pred = {classname: 0 for classname in classes}\n",
    "\n",
    "with torch.no_grad():\n",
    "    for data in testloader:\n",
    "        images, labels = data[0].to(device), data[1].to(device)\n",
    "        outputs = model(images)\n",
    "        _, predicted = torch.max(outputs.data, 1)\n",
    "        total += labels.size(0)\n",
    "        correct += (predicted == labels).sum().item()\n",
    "        \n",
    "        for label, prediction in zip(labels, predicted):\n",
    "            if label == prediction:\n",
    "                correct_pred[classes[label.item()]] += 1\n",
    "            total_pred[classes[label.item()]] += 1\n",
    "            \n",
    "print('Accuracy of the network on the 10 000 test images: %f %%' % (100 * correct / total))\n",
    "\n",
    "for classname, correct_count in correct_pred.items():\n",
    "    accuracy = 100* float(correct_count)/ total_pred[classname]\n",
    "    print(f'Accuracy for: {classname:5s} is {accuracy:0.1f} %')"
   ]
  },
  {
   "cell_type": "code",
   "execution_count": null,
   "id": "048fd615",
   "metadata": {},
   "outputs": [],
   "source": []
  }
 ],
 "metadata": {
  "kernelspec": {
   "display_name": "Python 3 (ipykernel)",
   "language": "python",
   "name": "python3"
  },
  "language_info": {
   "codemirror_mode": {
    "name": "ipython",
    "version": 3
   },
   "file_extension": ".py",
   "mimetype": "text/x-python",
   "name": "python",
   "nbconvert_exporter": "python",
   "pygments_lexer": "ipython3",
   "version": "3.8.18"
  }
 },
 "nbformat": 4,
 "nbformat_minor": 5
}
