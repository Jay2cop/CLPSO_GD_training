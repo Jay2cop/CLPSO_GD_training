{
 "cells": [
  {
   "cell_type": "code",
   "execution_count": 1,
   "id": "5f7dc0ca",
   "metadata": {},
   "outputs": [
    {
     "name": "stderr",
     "output_type": "stream",
     "text": [
      "/school/GPTEngineer_conda/Miniconda3/envs/CNN/lib/python3.8/site-packages/torchvision/io/image.py:13: UserWarning: Failed to load image Python extension: '/school/GPTEngineer_conda/Miniconda3/envs/CNN/lib/python3.8/site-packages/torchvision/image.so: undefined symbol: _ZN5torch3jit17parseSchemaOrNameERKNSt7__cxx1112basic_stringIcSt11char_traitsIcESaIcEEE'If you don't plan on using image functionality from `torchvision.io`, you can ignore this warning. Otherwise, there might be something wrong with your environment. Did you have `libjpeg` or `libpng` installed before building `torchvision` from source?\n",
      "  warn(\n"
     ]
    }
   ],
   "source": [
    "import torch\n",
    "import torchvision\n",
    "import numpy as np\n",
    "import torch.multiprocessing as mp\n",
    "from torchvision import datasets, transforms, models\n",
    "from torch.utils.data import DataLoader\n",
    "import torch.nn as nn\n",
    "import matplotlib.pyplot as plt\n",
    "import torch.nn.functional as F\n",
    "import seaborn as sns\n",
    "from sklearn.metrics import precision_score, recall_score, f1_score, confusion_matrix\n",
    "import os\n",
    "import copy\n",
    "import warnings\n",
    "import time\n",
    "#importing custom py file with functions and the CLPSO algorithm\n",
    "try:\n",
    "    import CLPSO_GRAD_script1\n",
    "except Exception as e:\n",
    "    print(\"Failed to import script:\", e)\n",
    "os.environ['PYTHONWARNINGS'] = 'ignore::UserWarning:torchvision.io.image'"
   ]
  },
  {
   "cell_type": "code",
   "execution_count": 2,
   "id": "111948da",
   "metadata": {},
   "outputs": [
    {
     "name": "stdout",
     "output_type": "stream",
     "text": [
      "Files already downloaded and verified\n",
      "Files already downloaded and verified\n",
      "Classes in CIFAR-10 dataset: ['airplane', 'automobile', 'bird', 'cat', 'deer', 'dog', 'frog', 'horse', 'ship', 'truck']\n"
     ]
    }
   ],
   "source": [
    "transform = transforms.Compose([\n",
    "    transforms.ToTensor(),\n",
    "    transforms.Normalize((0.5, 0.5, 0.5), (0.5, 0.5, 0.5))  # Normalize to the range [-1, 1]\n",
    "])\n",
    "\n",
    "trainset = torchvision.datasets.CIFAR10(root= './data', train = True, download = True, transform = transform)\n",
    "trainloader = torch.utils.data.DataLoader(trainset, batch_size = 4, shuffle = True, num_workers = 4)\n",
    "testset = torchvision.datasets.CIFAR10(root = './data', train = False, download = True, transform = transform)\n",
    "testloader = torch.utils.data.DataLoader(testset, batch_size = 4, shuffle = False, num_workers = 4)\n",
    "\n",
    "# Print class names\n",
    "classes = trainset.classes\n",
    "print(\"Classes in CIFAR-10 dataset:\", classes)\n",
    "\n",
    "#deifne GPU usage\n",
    "device = torch.device(\"cuda\" if torch.cuda.is_available() else \"cpu\")\n",
    "#Setting CUDA and multiprocessing\n",
    "mp.set_start_method('spawn', force=True)\n"
   ]
  },
  {
   "cell_type": "code",
   "execution_count": 3,
   "id": "4a7d0cbe",
   "metadata": {
    "scrolled": true
   },
   "outputs": [
    {
     "name": "stdout",
     "output_type": "stream",
     "text": [
      "<generator object Module.parameters at 0x7f2375a182e0>\n",
      "Total number of parameters: 551722\n",
      "Total number of parameters: 1290\n"
     ]
    }
   ],
   "source": [
    "class my_CNN(nn.Module):\n",
    "    def __init__(self, num_classes=10):\n",
    "        super(my_CNN, self).__init__()\n",
    "        \n",
    "        # Convolutional Blocks\n",
    "        self.conv1 = nn.Conv2d(3, 32, kernel_size=3, padding=1)\n",
    "        self.batch_norm1 = nn.BatchNorm2d(32)\n",
    "        self.conv2 = nn.Conv2d(32, 32, kernel_size=3, padding=1)\n",
    "        self.batch_norm2 = nn.BatchNorm2d(32)\n",
    "        self.maxpool1 = nn.MaxPool2d(2)\n",
    "        self.dropout1 = nn.Dropout(0.3)\n",
    "\n",
    "        self.conv3 = nn.Conv2d(32, 64, kernel_size=3, padding=1)\n",
    "        self.batch_norm3 = nn.BatchNorm2d(64)\n",
    "        self.conv4 = nn.Conv2d(64, 64, kernel_size=3, padding=1)\n",
    "        self.batch_norm4 = nn.BatchNorm2d(64)\n",
    "        self.maxpool2 = nn.MaxPool2d(2)\n",
    "        self.dropout2 = nn.Dropout(0.5)\n",
    "\n",
    "        self.conv5 = nn.Conv2d(64, 128, kernel_size=3, padding=1)\n",
    "        self.batch_norm5 = nn.BatchNorm2d(128)\n",
    "        self.conv6 = nn.Conv2d(128, 128, kernel_size=3, padding=1)\n",
    "        self.batch_norm6 = nn.BatchNorm2d(128)\n",
    "        self.maxpool3 = nn.MaxPool2d(2)\n",
    "        self.dropout3 = nn.Dropout(0.5)\n",
    "\n",
    "        # Fully Connected Layers\n",
    "        self.flatten = nn.Flatten()\n",
    "        self.fc1 = nn.Linear(128 * 4 * 4, 128)\n",
    "        self.batch_norm_fc = nn.BatchNorm1d(128)\n",
    "        self.dropout_fc = nn.Dropout(0.5)\n",
    "        self.fc2 = nn.Linear(128, num_classes)\n",
    "        \n",
    "    def forward(self, x):\n",
    "        # Convolutional Blocks\n",
    "        x = F.relu(self.batch_norm1(self.conv1(x)))\n",
    "        x = F.relu(self.batch_norm2(self.conv2(x)))\n",
    "        x = self.maxpool1(x)\n",
    "        x = self.dropout1(x)\n",
    "\n",
    "        x = F.relu(self.batch_norm3(self.conv3(x)))\n",
    "        x = F.relu(self.batch_norm4(self.conv4(x)))\n",
    "        x = self.maxpool2(x)\n",
    "        x = self.dropout2(x)\n",
    "\n",
    "        x = F.relu(self.batch_norm5(self.conv5(x)))\n",
    "        x = F.relu(self.batch_norm6(self.conv6(x)))\n",
    "        x = self.maxpool3(x)\n",
    "        x = self.dropout3(x)\n",
    "\n",
    "        # Fully Connected Layers\n",
    "        x = self.flatten(x)\n",
    "        x = F.relu(self.batch_norm_fc(self.fc1(x)))\n",
    "        x = self.dropout_fc(x)\n",
    "        x = self.fc2(x)\n",
    "\n",
    "        return F.log_softmax(x, dim=1)\n",
    "\n",
    "model = my_CNN()\n",
    "\n",
    "PATH = '/school/intelligence_coursework/new_CNN/trained_network/new_CNN_notebook.pth'\n",
    "model.load_state_dict(torch.load(PATH, map_location=device))\n",
    "\n",
    "print(model.fc2.parameters())\n",
    "\n",
    "total_params = sum(p.numel() for p in model.parameters())\n",
    "print(f\"Total number of parameters: {total_params}\")\n",
    "\n",
    "fc_params = sum(p.numel() for p in model.fc2.parameters())\n",
    "print(f\"Total number of parameters: {fc_params}\")\n",
    "\n",
    "\n"
   ]
  },
  {
   "cell_type": "code",
   "execution_count": 4,
   "id": "04e2001d",
   "metadata": {
    "scrolled": true
   },
   "outputs": [
    {
     "name": "stdout",
     "output_type": "stream",
     "text": [
      "Model device: cuda:0\n"
     ]
    }
   ],
   "source": [
    "model = model.to(device=device)\n",
    "criterion = nn.CrossEntropyLoss()\n",
    "print(\"Model device:\", next(model.parameters()).device)"
   ]
  },
  {
   "cell_type": "code",
   "execution_count": null,
   "id": "b8b931c2",
   "metadata": {},
   "outputs": [
    {
     "name": "stdout",
     "output_type": "stream",
     "text": [
      "Epoch 1/10\n"
     ]
    }
   ],
   "source": [
    "trained_model, epoch_losses, epoch_precisions = CLPSO_GRAD_script1.run_clpso(PATH, testloader, criterion, fine_tune_epochs=10, num_particles=3)"
   ]
  },
  {
   "cell_type": "code",
   "execution_count": 7,
   "id": "88573309",
   "metadata": {},
   "outputs": [
    {
     "name": "stdout",
     "output_type": "stream",
     "text": [
      "Accuracy of the network on the test images: 10.040000 %\n",
      "Accuracy for class airplane is 98.8 %\n",
      "Accuracy for class automobile is 1.6 %\n",
      "Accuracy for class bird  is 0.0 %\n",
      "Accuracy for class cat   is 0.0 %\n",
      "Accuracy for class deer  is 0.0 %\n",
      "Accuracy for class dog   is 0.0 %\n",
      "Accuracy for class frog  is 0.0 %\n",
      "Accuracy for class horse is 0.0 %\n",
      "Accuracy for class ship  is 0.0 %\n",
      "Accuracy for class truck is 0.0 %\n",
      "Precision: 0.0305\n",
      "Recall: 0.1004\n",
      "F1 Score: 0.0211\n"
     ]
    },
    {
     "name": "stderr",
     "output_type": "stream",
     "text": [
      "/school/GPTEngineer_conda/Miniconda3/envs/CNN/lib/python3.8/site-packages/sklearn/metrics/_classification.py:1471: UndefinedMetricWarning: Precision is ill-defined and being set to 0.0 in labels with no predicted samples. Use `zero_division` parameter to control this behavior.\n",
      "  _warn_prf(average, modifier, msg_start, len(result))\n"
     ]
    }
   ],
   "source": [
    "#Evaluation mode\n",
    "trained_model.eval()\n",
    "\n",
    "#Initialize evaluation metrics\n",
    "correct = 0\n",
    "total = 0\n",
    "class_correct = {classname: 0 for classname in classes}\n",
    "class_total = {classname: 0 for classname in classes}\n",
    "\n",
    "#Accuracy on the whole test set\n",
    "with torch.no_grad():\n",
    "    for data in testloader:\n",
    "        images, labels = data[0].to(device), data[1].to(device)\n",
    "        outputs = trained_model(images)\n",
    "        _, predicted = torch.max(outputs.data, 1)\n",
    "        total += labels.size(0)\n",
    "        correct += (predicted == labels).sum().item()\n",
    "\n",
    "        for label, prediction in zip(labels, predicted):\n",
    "            if label == prediction:\n",
    "                class_correct[classes[label.item()]] += 1\n",
    "            class_total[classes[label.item()]] += 1\n",
    "\n",
    "print('Accuracy of the network on the test images: %f %%' % (100 * correct / total))\n",
    "\n",
    "#Accuracy for each class\n",
    "for classname, correct_count in class_correct.items():\n",
    "    accuracy = 100 * float(correct_count) / class_total[classname]\n",
    "    print(f'Accuracy for class {classname:5s} is {accuracy:0.1f} %')\n",
    "\n",
    "#Precision, Recall, F1 Score\n",
    "all_labels = []\n",
    "all_predictions = []\n",
    "\n",
    "with torch.no_grad():\n",
    "    for data in testloader:\n",
    "        images, labels = data[0].to(device), data[1].to(device)\n",
    "        outputs = trained_model(images)\n",
    "        _, predicted = torch.max(outputs.data, 1)\n",
    "        all_labels.extend(labels.cpu().numpy())\n",
    "        all_predictions.extend(predicted.cpu().numpy())\n",
    "\n",
    "precision = precision_score(all_labels, all_predictions, average='macro')\n",
    "recall = recall_score(all_labels, all_predictions, average='macro')\n",
    "f1 = f1_score(all_labels, all_predictions, average='macro')\n",
    "\n",
    "print(f'Precision: {precision:.4f}')\n",
    "print(f'Recall: {recall:.4f}')\n",
    "print(f'F1 Score: {f1:.4f}')"
   ]
  },
  {
   "cell_type": "code",
   "execution_count": 7,
   "id": "de74300d",
   "metadata": {},
   "outputs": [
    {
     "name": "stderr",
     "output_type": "stream",
     "text": [
      "/school/GPTEngineer_conda/Miniconda3/envs/CNN/lib/python3.8/site-packages/sklearn/metrics/_classification.py:1471: UndefinedMetricWarning: Precision is ill-defined and being set to 0.0 in labels with no predicted samples. Use `zero_division` parameter to control this behavior.\n",
      "  _warn_prf(average, modifier, msg_start, len(result))\n"
     ]
    },
    {
     "name": "stdout",
     "output_type": "stream",
     "text": [
      "Precision: 0.0100\n",
      "Recall: 0.1000\n",
      "F1 Score: 0.0182\n"
     ]
    },
    {
     "data": {
      "image/png": "[encoded data removed]",
      "text/plain": [
       "<Figure size 640x480 with 2 Axes>"
      ]
     },
     "metadata": {},
     "output_type": "display_data"
    }
   ],
   "source": [
    "import numpy as np\n",
    "\n",
    "all_labels = []\n",
    "all_predictions = []\n",
    "\n",
    "with torch.no_grad():\n",
    "    for data in testloader:\n",
    "        images, labels = data[0].to(device), data[1].to(device)\n",
    "        outputs = model(images)\n",
    "        _, predicted = torch.max(outputs.data, 1)\n",
    "        \n",
    "        all_labels.append(labels.cpu().numpy())\n",
    "        all_predictions.append(predicted.cpu().numpy())\n",
    "\n",
    "# Concatenate all batches\n",
    "all_labels = np.concatenate(all_labels)\n",
    "all_predictions = np.concatenate(all_predictions)\n",
    "\n",
    "# Calculate metrics\n",
    "precision = precision_score(all_labels, all_predictions, average='macro')\n",
    "recall = recall_score(all_labels, all_predictions, average='macro')\n",
    "f1 = f1_score(all_labels, all_predictions, average='macro')\n",
    "\n",
    "# Print metrics\n",
    "print(f'Precision: {precision:.4f}')\n",
    "print(f'Recall: {recall:.4f}')\n",
    "print(f'F1 Score: {f1:.4f}')\n",
    "\n",
    "# Confusion Matrix\n",
    "conf_matrix = confusion_matrix(all_labels, all_predictions)\n",
    "sns.heatmap(conf_matrix, annot=True, fmt='d')\n",
    "plt.xlabel('Predicted')\n",
    "plt.ylabel('True')\n",
    "plt.show()\n"
   ]
  },
  {
   "cell_type": "code",
   "execution_count": null,
   "id": "bdb8ed32",
   "metadata": {},
   "outputs": [],
   "source": []
  }
 ],
 "metadata": {
  "kernelspec": {
   "display_name": "Python 3 (ipykernel)",
   "language": "python",
   "name": "python3"
  },
  "language_info": {
   "codemirror_mode": {
    "name": "ipython",
    "version": 3
   },
   "file_extension": ".py",
   "mimetype": "text/x-python",
   "name": "python",
   "nbconvert_exporter": "python",
   "pygments_lexer": "ipython3",
   "version": "3.8.18"
  }
 },
 "nbformat": 4,
 "nbformat_minor": 5
}
